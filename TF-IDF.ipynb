{
 "cells": [
  {
   "cell_type": "code",
   "execution_count": 1,
   "id": "8c123378",
   "metadata": {},
   "outputs": [],
   "source": [
    "import nltk\n",
    "from sklearn.feature_extraction.text import TfidfVectorizer\n",
    "import os\n",
    "import pandas as pd\n",
    "import re\n",
    "from nltk.tokenize import word_tokenize\n",
    "from nltk.corpus import stopwords\n",
    "from nltk.stem import WordNetLemmatizer"
   ]
  },
  {
   "cell_type": "code",
   "execution_count": 2,
   "id": "e29f2b82",
   "metadata": {},
   "outputs": [],
   "source": [
    "output_path = 'D:/llda/lda/result'\n",
    "file_path = 'D:/llda/lda/data'\n",
    "os.chdir(file_path)\n",
    "data=pd.read_excel(\"2022.xlsx\")#content type\n",
    "os.chdir(output_path)\n",
    "stop_file = \"D:/llda/lda/stop_dic/stopwords.txt\""
   ]
  },
  {
   "cell_type": "code",
   "execution_count": 3,
   "id": "b6329032",
   "metadata": {},
   "outputs": [],
   "source": [
    "import re\n",
    "from nltk.tokenize import word_tokenize\n",
    "from nltk.corpus import stopwords\n",
    "from nltk.stem import WordNetLemmatizer\n",
    "\n",
    "def english_word_cut(mytext):\n",
    "    stop_list = set(stopwords.words('english'))\n",
    "    lemmatizer = WordNetLemmatizer()\n",
    "\n",
    "    word_list = []\n",
    "    tokens = word_tokenize(mytext)\n",
    "    \n",
    "    for word in tokens:\n",
    "        word = re.sub(r'[^A-Za-z]', '', word)\n",
    "        word = word.lower()\n",
    "        \n",
    "        if word not in stop_list and len(word) >= 2:\n",
    "            word = lemmatizer.lemmatize(word)\n",
    "            word_list.append(word)\n",
    "    \n",
    "    return \" \".join(word_list)"
   ]
  },
  {
   "cell_type": "code",
   "execution_count": 4,
   "id": "f86e7882",
   "metadata": {},
   "outputs": [],
   "source": [
    "data[\"content_cutted\"] = data.content.apply(english_word_cut)"
   ]
  },
  {
   "cell_type": "code",
   "execution_count": 5,
   "id": "5e26fbd0",
   "metadata": {},
   "outputs": [],
   "source": [
    "vectorizer = TfidfVectorizer()\n",
    "tfidf_matrix = vectorizer.fit_transform(data.content_cutted)\n",
    "feature_names = vectorizer.get_feature_names_out()\n",
    "\n",
    "keywords_list = []\n",
    "for doc_index, doc in enumerate(data.content_cutted):\n",
    "    feature_index = tfidf_matrix[doc_index, :].nonzero()[1]\n",
    "    tfidf_scores = zip(feature_index, [tfidf_matrix[doc_index, x] for x in feature_index])\n",
    "    keywords = [(feature_names[i], score) for (i, score) in tfidf_scores]\n",
    "    keywords = sorted(keywords, key=lambda x: x[1], reverse=True)\n",
    "    \n",
    "    #print(f\"Document {doc_index + 1} keywords:\")\n",
    "    #for keyword, score in keywords:\n",
    "        #print(f\"{keyword}: {score}\")\n",
    "    #print()\n",
    "    keywords_list.append(keywords)\n",
    "\n",
    "df = pd.DataFrame(keywords_list)\n",
    "df.to_excel(\"keywords2022_output.xlsx\", index=False)"
   ]
  },
  {
   "cell_type": "code",
   "execution_count": null,
   "id": "cf472fd7",
   "metadata": {},
   "outputs": [],
   "source": []
  }
 ],
 "metadata": {
  "kernelspec": {
   "display_name": "Python 3 (ipykernel)",
   "language": "python",
   "name": "python3"
  },
  "language_info": {
   "codemirror_mode": {
    "name": "ipython",
    "version": 3
   },
   "file_extension": ".py",
   "mimetype": "text/x-python",
   "name": "python",
   "nbconvert_exporter": "python",
   "pygments_lexer": "ipython3",
   "version": "3.11.7"
  }
 },
 "nbformat": 4,
 "nbformat_minor": 5
}
